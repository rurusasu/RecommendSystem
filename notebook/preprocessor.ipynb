{
 "cells": [
  {
   "cell_type": "code",
   "execution_count": 4,
   "metadata": {},
   "outputs": [],
   "source": [
    "import pickle\n",
    "import pandas as pd"
   ]
  },
  {
   "cell_type": "code",
   "execution_count": 2,
   "metadata": {},
   "outputs": [],
   "source": [
    "pickle_name = \"sample_merged_full_10k\"\n",
    "base_dir = \"/home/user/core/data\""
   ]
  },
  {
   "cell_type": "code",
   "execution_count": 5,
   "metadata": {},
   "outputs": [],
   "source": [
    "# 保存したDataFrameの読み込み\n",
    "with open(f\"{base_dir}/{pickle_name}.pkl\", \"rb\") as f:\n",
    "    df = pickle.load(f)"
   ]
  },
  {
   "cell_type": "markdown",
   "metadata": {},
   "source": [
    "* 疎な特徴量は、数値情報\n",
    "* 密な特徴量は、文字かつ区分がある情報\n",
    "* 密で長さの変化する特徴量は、自己紹介文のように自由に記述可能な文や興味など複数項目を選択可能な特徴量"
   ]
  },
  {
   "cell_type": "code",
   "execution_count": 6,
   "metadata": {},
   "outputs": [],
   "source": [
    "# Identify sparse, dense, and variable-length dense features\n",
    "sparse_features = []\n",
    "dense_features = []\n",
    "varlen_dense_features = []\n",
    "\n",
    "for column in df.columns:\n",
    "    if pd.api.types.is_numeric_dtype(df[column]):\n",
    "        sparse_features.append(column)\n",
    "    elif pd.api.types.is_string_dtype(df[column]):\n",
    "        if column.endswith('_user') or column.endswith('_target'):\n",
    "            if column.startswith('interests') or column.startswith('self_introduction'):\n",
    "                varlen_dense_features.append(column)\n",
    "            else:\n",
    "                dense_features.append(column)\n",
    "        else:\n",
    "            dense_features.append(column)\n"
   ]
  },
  {
   "cell_type": "code",
   "execution_count": 8,
   "metadata": {},
   "outputs": [
    {
     "data": {
      "text/plain": [
       "<bound method NDFrame.head of         user_id  target_id  rating  salary_target  salary_user\n",
       "0             1       8627       0       11650000      8160000\n",
       "1             1      18213       0        7690000      8160000\n",
       "2             1      18859       1        4780000      8160000\n",
       "3             1      23263       0        3380000      8160000\n",
       "4             1      36543       1        6980000      8160000\n",
       "...         ...        ...     ...            ...          ...\n",
       "108557     9999      70344       0       12020000      4600000\n",
       "108558     9999      78152       0        9980000      4600000\n",
       "108559     9999      78622       1       10030000      4600000\n",
       "108560     9999      82549       0       10070000      4600000\n",
       "108561     9999      93888       0        9770000      4600000\n",
       "\n",
       "[108562 rows x 5 columns]>"
      ]
     },
     "execution_count": 8,
     "metadata": {},
     "output_type": "execute_result"
    }
   ],
   "source": [
    "# Extract only sparse features from the dataframe\n",
    "sparse_df = df[sparse_features]\n",
    "sparse_df.head"
   ]
  },
  {
   "cell_type": "code",
   "execution_count": 10,
   "metadata": {},
   "outputs": [
    {
     "data": {
      "text/html": [
       "<div>\n",
       "<style scoped>\n",
       "    .dataframe tbody tr th:only-of-type {\n",
       "        vertical-align: middle;\n",
       "    }\n",
       "\n",
       "    .dataframe tbody tr th {\n",
       "        vertical-align: top;\n",
       "    }\n",
       "\n",
       "    .dataframe thead th {\n",
       "        text-align: right;\n",
       "    }\n",
       "</style>\n",
       "<table border=\"1\" class=\"dataframe\">\n",
       "  <thead>\n",
       "    <tr style=\"text-align: right;\">\n",
       "      <th></th>\n",
       "      <th>user_id</th>\n",
       "      <th>target_id</th>\n",
       "      <th>rating</th>\n",
       "    </tr>\n",
       "  </thead>\n",
       "  <tbody>\n",
       "    <tr>\n",
       "      <th>0</th>\n",
       "      <td>1</td>\n",
       "      <td>8627</td>\n",
       "      <td>0</td>\n",
       "    </tr>\n",
       "    <tr>\n",
       "      <th>1</th>\n",
       "      <td>1</td>\n",
       "      <td>18213</td>\n",
       "      <td>0</td>\n",
       "    </tr>\n",
       "    <tr>\n",
       "      <th>2</th>\n",
       "      <td>1</td>\n",
       "      <td>18859</td>\n",
       "      <td>1</td>\n",
       "    </tr>\n",
       "    <tr>\n",
       "      <th>3</th>\n",
       "      <td>1</td>\n",
       "      <td>23263</td>\n",
       "      <td>0</td>\n",
       "    </tr>\n",
       "    <tr>\n",
       "      <th>4</th>\n",
       "      <td>1</td>\n",
       "      <td>36543</td>\n",
       "      <td>1</td>\n",
       "    </tr>\n",
       "    <tr>\n",
       "      <th>...</th>\n",
       "      <td>...</td>\n",
       "      <td>...</td>\n",
       "      <td>...</td>\n",
       "    </tr>\n",
       "    <tr>\n",
       "      <th>108557</th>\n",
       "      <td>9999</td>\n",
       "      <td>70344</td>\n",
       "      <td>0</td>\n",
       "    </tr>\n",
       "    <tr>\n",
       "      <th>108558</th>\n",
       "      <td>9999</td>\n",
       "      <td>78152</td>\n",
       "      <td>0</td>\n",
       "    </tr>\n",
       "    <tr>\n",
       "      <th>108559</th>\n",
       "      <td>9999</td>\n",
       "      <td>78622</td>\n",
       "      <td>1</td>\n",
       "    </tr>\n",
       "    <tr>\n",
       "      <th>108560</th>\n",
       "      <td>9999</td>\n",
       "      <td>82549</td>\n",
       "      <td>0</td>\n",
       "    </tr>\n",
       "    <tr>\n",
       "      <th>108561</th>\n",
       "      <td>9999</td>\n",
       "      <td>93888</td>\n",
       "      <td>0</td>\n",
       "    </tr>\n",
       "  </tbody>\n",
       "</table>\n",
       "<p>108562 rows × 3 columns</p>\n",
       "</div>"
      ],
      "text/plain": [
       "        user_id  target_id  rating\n",
       "0             1       8627       0\n",
       "1             1      18213       0\n",
       "2             1      18859       1\n",
       "3             1      23263       0\n",
       "4             1      36543       1\n",
       "...         ...        ...     ...\n",
       "108557     9999      70344       0\n",
       "108558     9999      78152       0\n",
       "108559     9999      78622       1\n",
       "108560     9999      82549       0\n",
       "108561     9999      93888       0\n",
       "\n",
       "[108562 rows x 3 columns]"
      ]
     },
     "execution_count": 10,
     "metadata": {},
     "output_type": "execute_result"
    }
   ],
   "source": [
    "# Extract specific sparse features: user_id, target_id, rating\n",
    "specific_sparse_df = sparse_df[['user_id', 'target_id', 'rating']]\n",
    "specific_sparse_df"
   ]
  }
 ],
 "metadata": {
  "kernelspec": {
   "display_name": ".venv",
   "language": "python",
   "name": "python3"
  },
  "language_info": {
   "codemirror_mode": {
    "name": "ipython",
    "version": 3
   },
   "file_extension": ".py",
   "mimetype": "text/x-python",
   "name": "python",
   "nbconvert_exporter": "python",
   "pygments_lexer": "ipython3",
   "version": "3.12.3"
  }
 },
 "nbformat": 4,
 "nbformat_minor": 2
}
